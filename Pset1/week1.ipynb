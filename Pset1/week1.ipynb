{
 "cells": [
  {
   "cell_type": "markdown",
   "metadata": {},
   "source": [
    "# Introduction to Data Science 2022\n",
    "\n",
    "# Week 1"
   ]
  },
  {
   "cell_type": "markdown",
   "metadata": {},
   "source": [
    "## Exercise 1 | Matrix warm-up\n",
    "<span style=\"background-color: #ccfff2\"> *Note: You can find tutorials for NumPy and Pandas under 'Useful tutorials' on Moodle.*</span>"
   ]
  },
  {
   "cell_type": "markdown",
   "metadata": {},
   "source": [
    "One of the most useful properties of any scientific programming language (Python with NumPy, R, Julia, etc) is that they allow us to work with matrices efficiently. Let's learn more about these features!\n",
    "\n",
    "### 1.1 Basics\n",
    "\n",
    "1. Let's start by creating two arrays <span style=\"background-color: #ccfff2\"> A</span> and <span style=\"background-color: #ccfff2\"> B</span> which each have the integers <span style=\"background-color: #ccfff2\"> 0, 1, 2, ..., 1e7-1</span>. Use the normal arrays or lists of the programming language you are using, e.g. *list* or *[ ]* in *numpy.array()* Python."
   ]
  },
  {
   "cell_type": "code",
   "execution_count": 7,
   "metadata": {},
   "outputs": [
    {
     "name": "stdout",
     "output_type": "stream",
     "text": [
      "[      0       1       2 ... 9999997 9999998 9999999]\n"
     ]
    }
   ],
   "source": [
    "import numpy as np\n",
    "\n",
    "A = np.arange(10**7)\n",
    "B = np.arange(10**7)\n",
    "print(A)"
   ]
  },
  {
   "cell_type": "markdown",
   "metadata": {},
   "source": [
    "2. Create a function that uses a <span style=\"background-color: #ccfff2\"> for loop</span> or equivalent to return a new array <span style=\"background-color: #ccfff2\"> C</span>, which contains the <span style=\"background-color: #ccfff2\"> element-wise sum of *A* and *B*</span>, e.g. C should contain the integers <span style=\"background-color: #ccfff2\"> 0, 2, 4, etc</span>."
   ]
  },
  {
   "cell_type": "code",
   "execution_count": 8,
   "metadata": {},
   "outputs": [
    {
     "name": "stdout",
     "output_type": "stream",
     "text": [
      "[       0        2        4 ... 19999994 19999996 19999998]\n"
     ]
    }
   ],
   "source": [
    "def add_with_for(A,B):\n",
    "    C = np.ones(len(A), dtype=int)\n",
    "    for i in range(len(A)):\n",
    "        C[i] = (A[i] + B[i])\n",
    "    return C\n",
    "\n",
    "print(add_with_for(A,B))"
   ]
  },
  {
   "cell_type": "markdown",
   "metadata": {},
   "source": [
    "3. Next, let's create another function that uses NumPy (or equivalent) to do the same. To try it out, allocate two arrays (e.g. using <span style=\"background-color: #ccfff2\"> np.array</span> in NumPy) and add the arrays together using your function. Don't use loops, instead, find out how to add the two arrays directly. What do you notice in comparison to the previous function?"
   ]
  },
  {
   "cell_type": "code",
   "execution_count": 9,
   "metadata": {},
   "outputs": [
    {
     "name": "stdout",
     "output_type": "stream",
     "text": [
      "[       0        2        4 ... 19999994 19999996 19999998]\n"
     ]
    }
   ],
   "source": [
    "def np_add_arrays(array_1, array_2):\n",
    "    return np.add(array_1, array_2)\n",
    "print(np_add_arrays(A,B))\n",
    "\n",
    "# In comparison with the for-loop, this is much faster"
   ]
  },
  {
   "cell_type": "markdown",
   "metadata": {},
   "source": [
    "### 1.2 Array manipulation"
   ]
  },
  {
   "cell_type": "markdown",
   "metadata": {},
   "source": [
    "<span style=\"background-color: #ccfff2\"> *Note: for the following exercises, only use NumPy or equivalent functions. Don't use any loops.* </span>\n",
    "1. Create the following array:\n",
    "\n",
    "*[hint: <span style=\"background-color: #ccfff2\"> np.reshape</span>]*"
   ]
  },
  {
   "cell_type": "code",
   "execution_count": null,
   "metadata": {},
   "outputs": [],
   "source": [
    "# array([[ 0,  1,  2,  3,  4,  5,  6,  7,  8,  9],\n",
    "#        [10, 11, 12, 13, 14, 15, 16, 17, 18, 19],\n",
    "#        [20, 21, 22, 23, 24, 25, 26, 27, 28, 29],\n",
    "#        [30, 31, 32, 33, 34, 35, 36, 37, 38, 39],\n",
    "#        [40, 41, 42, 43, 44, 45, 46, 47, 48, 49],\n",
    "#        [50, 51, 52, 53, 54, 55, 56, 57, 58, 59],\n",
    "#        [60, 61, 62, 63, 64, 65, 66, 67, 68, 69],\n",
    "#        [70, 71, 72, 73, 74, 75, 76, 77, 78, 79],\n",
    "#        [80, 81, 82, 83, 84, 85, 86, 87, 88, 89],\n",
    "#        [90, 91, 92, 93, 94, 95, 96, 97, 98, 99]])"
   ]
  },
  {
   "cell_type": "code",
   "execution_count": 10,
   "metadata": {},
   "outputs": [
    {
     "data": {
      "text/plain": [
       "array([[ 0,  1,  2,  3,  4,  5,  6,  7,  8,  9],\n",
       "       [10, 11, 12, 13, 14, 15, 16, 17, 18, 19],\n",
       "       [20, 21, 22, 23, 24, 25, 26, 27, 28, 29],\n",
       "       [30, 31, 32, 33, 34, 35, 36, 37, 38, 39],\n",
       "       [40, 41, 42, 43, 44, 45, 46, 47, 48, 49],\n",
       "       [50, 51, 52, 53, 54, 55, 56, 57, 58, 59],\n",
       "       [60, 61, 62, 63, 64, 65, 66, 67, 68, 69],\n",
       "       [70, 71, 72, 73, 74, 75, 76, 77, 78, 79],\n",
       "       [80, 81, 82, 83, 84, 85, 86, 87, 88, 89],\n",
       "       [90, 91, 92, 93, 94, 95, 96, 97, 98, 99]])"
      ]
     },
     "execution_count": 10,
     "metadata": {},
     "output_type": "execute_result"
    }
   ],
   "source": [
    "np.arange(100).reshape(10,10)"
   ]
  },
  {
   "cell_type": "markdown",
   "metadata": {},
   "source": [
    "2. Create the following array:"
   ]
  },
  {
   "cell_type": "code",
   "execution_count": null,
   "metadata": {},
   "outputs": [],
   "source": [
    "# array([[0., 1., 0., 1., 0., 1., 0., 1., 0., 1.],\n",
    "#        [0., 1., 0., 1., 0., 1., 0., 1., 0., 1.],\n",
    "#        [0., 1., 0., 1., 0., 1., 0., 1., 0., 1.],\n",
    "#        [0., 1., 0., 1., 0., 1., 0., 1., 0., 1.],\n",
    "#        [0., 1., 0., 1., 0., 1., 0., 1., 0., 1.],\n",
    "#        [0., 1., 0., 1., 0., 1., 0., 1., 0., 1.],\n",
    "#        [0., 1., 0., 1., 0., 1., 0., 1., 0., 1.],\n",
    "#        [0., 1., 0., 1., 0., 1., 0., 1., 0., 1.],\n",
    "#        [0., 1., 0., 1., 0., 1., 0., 1., 0., 1.],\n",
    "#        [0., 1., 0., 1., 0., 1., 0., 1., 0., 1.]])"
   ]
  },
  {
   "cell_type": "code",
   "execution_count": 11,
   "metadata": {},
   "outputs": [
    {
     "data": {
      "text/plain": [
       "array([[0., 1., 0., 1., 0., 1., 0., 1., 0., 1.],\n",
       "       [0., 1., 0., 1., 0., 1., 0., 1., 0., 1.],\n",
       "       [0., 1., 0., 1., 0., 1., 0., 1., 0., 1.],\n",
       "       [0., 1., 0., 1., 0., 1., 0., 1., 0., 1.],\n",
       "       [0., 1., 0., 1., 0., 1., 0., 1., 0., 1.],\n",
       "       [0., 1., 0., 1., 0., 1., 0., 1., 0., 1.],\n",
       "       [0., 1., 0., 1., 0., 1., 0., 1., 0., 1.],\n",
       "       [0., 1., 0., 1., 0., 1., 0., 1., 0., 1.],\n",
       "       [0., 1., 0., 1., 0., 1., 0., 1., 0., 1.],\n",
       "       [0., 1., 0., 1., 0., 1., 0., 1., 0., 1.]])"
      ]
     },
     "execution_count": 11,
     "metadata": {},
     "output_type": "execute_result"
    }
   ],
   "source": [
    "np.arange(100.).reshape(10,10)%2"
   ]
  },
  {
   "cell_type": "markdown",
   "metadata": {},
   "source": [
    "3. Create the following array (D):"
   ]
  },
  {
   "cell_type": "code",
   "execution_count": null,
   "metadata": {},
   "outputs": [],
   "source": [
    "# array([[0., 1., 1., 1., 1., 1., 1., 1., 1., 1.],\n",
    "#        [1., 0., 1., 1., 1., 1., 1., 1., 1., 1.],\n",
    "#        [1., 1., 0., 1., 1., 1., 1., 1., 1., 1.],\n",
    "#        [1., 1., 1., 0., 1., 1., 1., 1., 1., 1.],\n",
    "#        [1., 1., 1., 1., 0., 1., 1., 1., 1., 1.],\n",
    "#        [1., 1., 1., 1., 1., 0., 1., 1., 1., 1.],\n",
    "#        [1., 1., 1., 1., 1., 1., 0., 1., 1., 1.],\n",
    "#        [1., 1., 1., 1., 1., 1., 1., 0., 1., 1.],\n",
    "#        [1., 1., 1., 1., 1., 1., 1., 1., 0., 1.],\n",
    "#        [1., 1., 1., 1., 1., 1., 1., 1., 1., 0.]])"
   ]
  },
  {
   "cell_type": "code",
   "execution_count": 12,
   "metadata": {},
   "outputs": [
    {
     "data": {
      "text/plain": [
       "array([[0., 1., 1., 1., 1., 1., 1., 1., 1., 1.],\n",
       "       [1., 0., 1., 1., 1., 1., 1., 1., 1., 1.],\n",
       "       [1., 1., 0., 1., 1., 1., 1., 1., 1., 1.],\n",
       "       [1., 1., 1., 0., 1., 1., 1., 1., 1., 1.],\n",
       "       [1., 1., 1., 1., 0., 1., 1., 1., 1., 1.],\n",
       "       [1., 1., 1., 1., 1., 0., 1., 1., 1., 1.],\n",
       "       [1., 1., 1., 1., 1., 1., 0., 1., 1., 1.],\n",
       "       [1., 1., 1., 1., 1., 1., 1., 0., 1., 1.],\n",
       "       [1., 1., 1., 1., 1., 1., 1., 1., 0., 1.],\n",
       "       [1., 1., 1., 1., 1., 1., 1., 1., 1., 0.]])"
      ]
     },
     "execution_count": 12,
     "metadata": {},
     "output_type": "execute_result"
    }
   ],
   "source": [
    "D = np.eye(10) + 1\n",
    "np.fill_diagonal(D,0)\n",
    "D"
   ]
  },
  {
   "cell_type": "markdown",
   "metadata": {},
   "source": [
    "4. Create the following array (E):"
   ]
  },
  {
   "cell_type": "code",
   "execution_count": 3,
   "metadata": {},
   "outputs": [],
   "source": [
    "# array([[1., 1., 1., 1., 1., 1., 1., 1., 1., 0.],\n",
    "#        [1., 1., 1., 1., 1., 1., 1., 1., 0., 1.],\n",
    "#        [1., 1., 1., 1., 1., 1., 1., 0., 1., 1.],\n",
    "#        [1., 1., 1., 1., 1., 1., 0., 1., 1., 1.],\n",
    "#        [1., 1., 1., 1., 1., 0., 1., 1., 1., 1.],\n",
    "#        [1., 1., 1., 1., 0., 1., 1., 1., 1., 1.],\n",
    "#        [1., 1., 1., 0., 1., 1., 1., 1., 1., 1.],\n",
    "#        [1., 1., 0., 1., 1., 1., 1., 1., 1., 1.],\n",
    "#        [1., 0., 1., 1., 1., 1., 1., 1., 1., 1.],\n",
    "#        [0., 1., 1., 1., 1., 1., 1., 1., 1., 1.]])"
   ]
  },
  {
   "cell_type": "code",
   "execution_count": 16,
   "metadata": {},
   "outputs": [
    {
     "data": {
      "text/plain": [
       "array([[1., 1., 1., 1., 1., 1., 1., 1., 1., 0.],\n",
       "       [1., 1., 1., 1., 1., 1., 1., 1., 0., 1.],\n",
       "       [1., 1., 1., 1., 1., 1., 1., 0., 1., 1.],\n",
       "       [1., 1., 1., 1., 1., 1., 0., 1., 1., 1.],\n",
       "       [1., 1., 1., 1., 1., 0., 1., 1., 1., 1.],\n",
       "       [1., 1., 1., 1., 0., 1., 1., 1., 1., 1.],\n",
       "       [1., 1., 1., 0., 1., 1., 1., 1., 1., 1.],\n",
       "       [1., 1., 0., 1., 1., 1., 1., 1., 1., 1.],\n",
       "       [1., 0., 1., 1., 1., 1., 1., 1., 1., 1.],\n",
       "       [0., 1., 1., 1., 1., 1., 1., 1., 1., 1.]])"
      ]
     },
     "execution_count": 16,
     "metadata": {},
     "output_type": "execute_result"
    }
   ],
   "source": [
    "E = D[::-1]\n",
    "E"
   ]
  },
  {
   "cell_type": "markdown",
   "metadata": {},
   "source": [
    "5. Call the last two matrices <span style=\"background-color: #ccfff2\">D</span> and <span style=\"background-color: #ccfff2\">E</span>, respectively. Show that the determinant of their product (matrix multiplication) is the same as the product of their determinants. That is calculate both <span style=\"background-color: #ccfff2\">det(DE)</span> and <span style=\"background-color: #ccfff2\">det(D) * det(E)</span>, and show that they are the same. Is it a coincidence? (I think not) The product of the determinants (or the determinant of the product) should be -81."
   ]
  },
  {
   "cell_type": "code",
   "execution_count": 17,
   "metadata": {},
   "outputs": [],
   "source": [
    "DEProduct = np.dot(D,E)\n",
    "DEDet = np.linalg.det(DEProduct)\n",
    "\n",
    "DDet = np.linalg.det(D)\n",
    "EDet = np.linalg.det(E)\n"
   ]
  },
  {
   "cell_type": "markdown",
   "metadata": {},
   "source": [
    "-- *Use this markdown cell for your written answer* -- <br/>\n",
    "No, this is not a coincidence! \n",
    "\n",
    "When it comes to any 2 square matrices, X and Y, of size nxn, det(XY) = det(X) * det(Y). That is because the determinant can be considered as the scaling factor for the transformation of a matrix. For this example, the Det(D) = -9, and Det(E) = 9. \n",
    "\n",
    "When multiplied, we get the following matrix: <br/>\n",
    "<code>[[8. 8. 8. 8. 8. 8. 8. 8. 8. 9.]\n",
    " [8. 8. 8. 8. 8. 8. 8. 8. 9. 8.]\n",
    " [8. 8. 8. 8. 8. 8. 8. 9. 8. 8.]\n",
    " [8. 8. 8. 8. 8. 8. 9. 8. 8. 8.]\n",
    " [8. 8. 8. 8. 8. 9. 8. 8. 8. 8.]\n",
    " [8. 8. 8. 8. 9. 8. 8. 8. 8. 8.]\n",
    " [8. 8. 8. 9. 8. 8. 8. 8. 8. 8.]\n",
    " [8. 8. 9. 8. 8. 8. 8. 8. 8. 8.]\n",
    " [8. 9. 8. 8. 8. 8. 8. 8. 8. 8.]\n",
    " [9. 8. 8. 8. 8. 8. 8. 8. 8. 8.]]</code>\n",
    " \n",
    "Where Det(DE) = -81."
   ]
  },
  {
   "cell_type": "markdown",
   "metadata": {},
   "source": [
    "### 1.3 Slicing\n",
    "\n",
    "Array slicing is a powerful way to extract data from an array. Let's practice array slicing with the following exercises!\n",
    "\n",
    "1. Load the [California housing dataset](https://scikit-learn.org/stable/modules/generated/sklearn.datasets.fetch_california_housing.html). The data should be a matrix of shape <span style=\"background-color: #ccfff2\">(20640, 8)</span>, that is 20640 rows and 8 columns. Use the <span style=\"background-color: #ccfff2\">.shape</span> attribute of NumPy arrays to verify this. Here's a [description of the fields](https://scikit-learn.org/stable/datasets/real_world.html#california-housing-dataset)."
   ]
  },
  {
   "cell_type": "code",
   "execution_count": 6,
   "metadata": {},
   "outputs": [
    {
     "data": {
      "text/plain": [
       "(20640, 8)"
      ]
     },
     "execution_count": 6,
     "metadata": {},
     "output_type": "execute_result"
    }
   ],
   "source": [
    "from sklearn.datasets import fetch_california_housing;\n",
    "\n",
    "cal_housing = fetch_california_housing()\n",
    "cal_housing_data = cal_housing.data\n",
    "cal_housing_features = cal_housing.feature_names\n",
    "\n",
    "cal_housing_shape = cal_housing_data.shape\n",
    "cal_housing_shape"
   ]
  },
  {
   "cell_type": "markdown",
   "metadata": {},
   "source": [
    "2. Select rows where the average number of bedrooms <span style=\"background-color: #ccfff2\">(AveBedrms)</span> is higher than 2. The first few row indices should be <span style=\"background-color: #ccfff2\">710,  1023,  1024, ...</span> (zero-indexed). Count these houses - how many rows are selected? *[hint: <span style=\"background-color: #ccfff2\">np.where</span>]*"
   ]
  },
  {
   "cell_type": "code",
   "execution_count": 173,
   "metadata": {},
   "outputs": [
    {
     "name": "stdout",
     "output_type": "stream",
     "text": [
      "[  710  1023  1024  1030  1102  1233  1234  1235  1236  1238  1239  1240\n",
      "  1566  1867  1871  1872  1879  1881  1889  1901  1906  1910  1911  1912\n",
      "  1913  1914  1925  1926  1978  1979  2392  2395  2396  2397  2398  2510\n",
      "  2511  2643  2656  2763  2768  2776  2778  3014  3086  3095  3258  3292\n",
      "  3293  3313  3314  3334  3349  3350  9193  9423  9431  9451  9634  9669\n",
      "  9671  9672  9675  9676  9678  9679  9680  9681  9682  9683 10067 10076\n",
      " 10077 10078 10079 10080 10081 10082 10083 10084 10405 11705 11706 11707\n",
      " 11708 11709 11710 11711 11713 11714 11715 11716 11717 11719 11720 11721\n",
      " 11722 11723 11724 11725 11729 11831 11832 11833 11834 11847 11848 11849\n",
      " 11850 11862 11865 11866 11867 11869 11870 12136 12303 12305 12306 12307\n",
      " 12324 12325 12344 12349 12351 12354 12359 12361 12362 12366 12368 12371\n",
      " 12372 12374 12376 12390 12392 12394 12396 12404 12405 12430 12446 12447\n",
      " 13898 13900 13911 13912 13919 13920 13923 13924 13934 13935 13936 13937\n",
      " 13939 13940 13941 13942 13943 13944 13945 13946 13947 13948 13949 13950\n",
      " 13953 13954 13955 13956 13957 13958 13959 13960 13961 13962 13963 13964\n",
      " 13965 13966 13967 13968 13969 13970 13971 13972 13973 13974 13975 13976\n",
      " 13978 13979 13980 13999 14417 14418 14805 15500 15595 15779 16598 17878\n",
      " 17891 18680 18681 18817 18821 18822 18858 19331 19362 19435 19536 19736\n",
      " 19780 19781 19789 19800 19801 19802 19803 19806 19807 19975 19976 19977\n",
      " 20089 20092 20093 20094 20110 20112 20113]\n"
     ]
    },
    {
     "data": {
      "text/plain": [
       "235"
      ]
     },
     "execution_count": 173,
     "metadata": {},
     "output_type": "execute_result"
    }
   ],
   "source": [
    "avgBedrmsIndex = cal_housing_features.index(\"AveBedrms\")\n",
    "\n",
    "avgBdrmsOverTwo = np.where(cal_housing_data[:,avgBedrmsIndex]>2)[0]\n",
    "print(avgBdrmsOverTwo)\n",
    "len(avgBdrmsOverTwo)\n",
    "# print(len(avgBdrmsOverTwo), avgBdrmsOverTwo)"
   ]
  },
  {
   "cell_type": "markdown",
   "metadata": {},
   "source": [
    "3. Select the rows where the median house age (i.e. median in each block group) <span style=\"background-color: #ccfff2\">(HouseAge)</span> is between 1 and 3 years (inclusive). There should be **124** of these."
   ]
  },
  {
   "cell_type": "code",
   "execution_count": 179,
   "metadata": {},
   "outputs": [
    {
     "data": {
      "text/plain": [
       "124"
      ]
     },
     "execution_count": 179,
     "metadata": {},
     "output_type": "execute_result"
    }
   ],
   "source": [
    "houseAgeIndex = cal_housing_features.index(\"HouseAge\")\n",
    "\n",
    "houseAgeOverOne = np.where((cal_housing_data[:,houseAgeIndex]>=1 )& (cal_housing_data[:,houseAgeIndex]<=3))[0]\n",
    "len(houseAgeOverOne)"
   ]
  },
  {
   "cell_type": "markdown",
   "metadata": {},
   "source": [
    "4. Find the mean of the block group population <span style=\"background-color: #ccfff2\">(Population)</span> for homes whose median value is more than 25000 USD (the target variable). It should be around **1425.68**."
   ]
  },
  {
   "cell_type": "code",
   "execution_count": 214,
   "metadata": {},
   "outputs": [
    {
     "data": {
      "text/plain": [
       "1425.6833737275813"
      ]
     },
     "execution_count": 214,
     "metadata": {},
     "output_type": "execute_result"
    }
   ],
   "source": [
    "populationIndex = cal_housing_features.index(\"Population\")\n",
    "\n",
    "# get all homes where median val > 25,000\n",
    "medianHomesArray = np.where(cal_housing.target>.25)[0]\n",
    "\n",
    "# get populations of the above rows\n",
    "wantedPopulations = cal_housing_data[medianHomesArray,populationIndex]\n",
    "meanSoltution = np.mean(wantedPopulations)\n",
    "meanSoltution"
   ]
  },
  {
   "cell_type": "markdown",
   "metadata": {},
   "source": [
    "**Remember to submit your code on Moodle. You can return this Jupyter notebook (.ipynb) or .py, .R, etc depending on your programming preferences.**"
   ]
  },
  {
   "cell_type": "markdown",
   "metadata": {},
   "source": [
    "## Exercise 2 | Working with text data\n",
    "\n",
    "Next, let's look into some text data. We will be looking into Amazon reviews, and the necessary steps to transform a raw dataset into a format more suitable for prediction tasks.\n",
    "\n",
    "1. Download the automotive 5-core dataset from [here](http://deepyeti.ucsd.edu/jianmo/amazon/categoryFilesSmall/Automotive_5.json.gz). Next, you can extract the data in <span style=\"background-color: #ccfff2\">JSON</span> format. You can also download one of the bigger ones, if you are feeling ambitious. Open the JSON file and access the <span style=\"background-color: #ccfff2\">reviewText</span> field, which contains the unstructured review text written by the user. \n",
    "\n",
    "For instance, the first review reads as follows: \n",
    "\n",
    "*'After I wrote the below review, the manufacturer contacted me and explained how to use this.  Instead of the (current) picture on Amazon where the phone is placed vertically, you actually use the stand with the phone placed horizontally. [...]'*"
   ]
  },
  {
   "cell_type": "code",
   "execution_count": 220,
   "metadata": {},
   "outputs": [
    {
     "data": {
      "text/html": [
       "<div>\n",
       "<style scoped>\n",
       "    .dataframe tbody tr th:only-of-type {\n",
       "        vertical-align: middle;\n",
       "    }\n",
       "\n",
       "    .dataframe tbody tr th {\n",
       "        vertical-align: top;\n",
       "    }\n",
       "\n",
       "    .dataframe thead th {\n",
       "        text-align: right;\n",
       "    }\n",
       "</style>\n",
       "<table border=\"1\" class=\"dataframe\">\n",
       "  <thead>\n",
       "    <tr style=\"text-align: right;\">\n",
       "      <th></th>\n",
       "      <th>reviewText</th>\n",
       "    </tr>\n",
       "  </thead>\n",
       "  <tbody>\n",
       "    <tr>\n",
       "      <th>0</th>\n",
       "      <td>After I wrote the below review, the manufactur...</td>\n",
       "    </tr>\n",
       "    <tr>\n",
       "      <th>1</th>\n",
       "      <td>It sucks barely picks up anything definitely n...</td>\n",
       "    </tr>\n",
       "    <tr>\n",
       "      <th>2</th>\n",
       "      <td>Well to write a short one, it blew 2 fuses of ...</td>\n",
       "    </tr>\n",
       "    <tr>\n",
       "      <th>3</th>\n",
       "      <td>I have absolutely no memory of buying this but...</td>\n",
       "    </tr>\n",
       "    <tr>\n",
       "      <th>4</th>\n",
       "      <td>it ok it does it job</td>\n",
       "    </tr>\n",
       "    <tr>\n",
       "      <th>...</th>\n",
       "      <td>...</td>\n",
       "    </tr>\n",
       "    <tr>\n",
       "      <th>1711514</th>\n",
       "      <td>Fast Shipping, Works Great!</td>\n",
       "    </tr>\n",
       "    <tr>\n",
       "      <th>1711515</th>\n",
       "      <td>Fit isn't great, relays are very hard to press...</td>\n",
       "    </tr>\n",
       "    <tr>\n",
       "      <th>1711516</th>\n",
       "      <td>I bought an auxiliary horn for my car and it n...</td>\n",
       "    </tr>\n",
       "    <tr>\n",
       "      <th>1711517</th>\n",
       "      <td>Way better than stock. Nice bright and white. ...</td>\n",
       "    </tr>\n",
       "    <tr>\n",
       "      <th>1711518</th>\n",
       "      <td>Great product fast shipping and awesome commun...</td>\n",
       "    </tr>\n",
       "  </tbody>\n",
       "</table>\n",
       "<p>1711519 rows × 1 columns</p>\n",
       "</div>"
      ],
      "text/plain": [
       "                                                reviewText\n",
       "0        After I wrote the below review, the manufactur...\n",
       "1        It sucks barely picks up anything definitely n...\n",
       "2        Well to write a short one, it blew 2 fuses of ...\n",
       "3        I have absolutely no memory of buying this but...\n",
       "4                                     it ok it does it job\n",
       "...                                                    ...\n",
       "1711514                        Fast Shipping, Works Great!\n",
       "1711515  Fit isn't great, relays are very hard to press...\n",
       "1711516  I bought an auxiliary horn for my car and it n...\n",
       "1711517  Way better than stock. Nice bright and white. ...\n",
       "1711518  Great product fast shipping and awesome commun...\n",
       "\n",
       "[1711519 rows x 1 columns]"
      ]
     },
     "execution_count": 220,
     "metadata": {},
     "output_type": "execute_result"
    }
   ],
   "source": [
    "import pandas as pd\n",
    "\n",
    "df = pd.read_json('Automotive_5.json', lines=True)\n",
    "\n",
    "reviewTextCol = df[['reviewText']]\n",
    "reviewTextCol"
   ]
  },
  {
   "cell_type": "markdown",
   "metadata": {},
   "source": [
    "2. Next, let's follow some steps to normalize the text data.\n",
    "\n",
    "When dealing with natural language, it is important to notice that while, for example, the words \"Copper\" and \"copper\" are represented by two different strings, they have the same meaning. When applying statistical methods on this data, it is useful to ensure that words with the same meaning are represented by the same string.\n",
    "\n",
    "* <span style=\"background-color: #ccfff2\">Downcasing</span>: Let's first downcase the contents of the <span style=\"background-color: #ccfff2\">reviewText</span> field.\n",
    "\n",
    "Now the first review should be:\n",
    "\n",
    "*'after i wrote the below review, the manufacturer contacted me and explained how to use this.  instead of the (current) picture on amazon where the phone is placed vertically, you actually use the stand with the phone placed horizontally.'*"
   ]
  },
  {
   "cell_type": "code",
   "execution_count": 253,
   "metadata": {},
   "outputs": [
    {
     "data": {
      "text/plain": [
       "0          after i wrote the below review, the manufactur...\n",
       "1          it sucks barely picks up anything definitely n...\n",
       "2          well to write a short one, it blew 2 fuses of ...\n",
       "3          i have absolutely no memory of buying this but...\n",
       "4                                       it ok it does it job\n",
       "                                 ...                        \n",
       "1711514                          fast shipping, works great!\n",
       "1711515    fit isn't great, relays are very hard to press...\n",
       "1711516    i bought an auxiliary horn for my car and it n...\n",
       "1711517    way better than stock. nice bright and white. ...\n",
       "1711518    great product fast shipping and awesome commun...\n",
       "Name: reviewText, Length: 1711519, dtype: object"
      ]
     },
     "execution_count": 253,
     "metadata": {},
     "output_type": "execute_result"
    }
   ],
   "source": [
    "reviewTextCol = df['reviewText']\n",
    "lowerReviews = reviewTextCol.str.lower()\n",
    "lowerReviews"
   ]
  },
  {
   "cell_type": "markdown",
   "metadata": {},
   "source": [
    "3. Let's continue with punctuation and stop word removal. Stop words are words like \"and\", \"the\", etc. They are usually very common words that have little to do with the actual content matter. There's plenty openly available lists of stop words for almost any (natural) language.\n",
    "\n",
    "* <span style=\"background-color: #ccfff2\">Punctuation and stop-word removal</span>: Let's now remove all punctuation, as well as the stop words. You can find a stop word list for English, e.g. [here](https://docs.google.com/viewer?a=v&pid=sites&srcid=ZGVmYXVsdGRvbWFpbnxrZXZpbmJvdWdlfGd4OjY0MTNkZjJhOWIzODQ2Mzg) *(use the link to download a txt of english stopwords)*.\n",
    "\n",
    "First review at this point reads as: \n",
    "\n",
    "*'wrote review manufacturer contacted explained current picture amazon phone vertically stand phone horizontally'*"
   ]
  },
  {
   "cell_type": "code",
   "execution_count": 315,
   "metadata": {},
   "outputs": [],
   "source": [
    "import string\n",
    "\n",
    "def removeFunction(review):\n",
    "    ''' reads in a string, removes\n",
    "        punctuation & stop words. Returns str\n",
    "    '''\n",
    "    # remove punctuation\n",
    "    noPunct = str(review).translate(str.maketrans('', '', string.punctuation))\n",
    "    # split into list of words\n",
    "    listOfWords = noPunct.split()\n",
    "    # remove all stopwords\n",
    "    updatedList = [word for word in listOfWords if word not in stopWords]\n",
    "    # return the new string\n",
    "    return ' '.join(updatedList)\n"
   ]
  },
  {
   "cell_type": "code",
   "execution_count": 319,
   "metadata": {},
   "outputs": [
    {
     "name": "stdout",
     "output_type": "stream",
     "text": [
      "wrote review manufacturer contacted explained current picture amazon phone vertically stand phone horizontally charge sync cable hole charge side landscape position stand make sense im upgrading review 2 stars 4 stars rarely case user error star lack documentation manufacturer include directions encourage update photos amazon examples wood quality good sturdy stand im id stand facetime chats open office environment phone desk alerts notifications easily hope updated review helps original review throwing stand garbage crafted nice wood functional instructions product description confusing english poorly translated chinese iphone sits stand fine stand plug bottom plug stand blocks turn iphone plug top strange im hole back stand supposed included plastic feet instructions affixed bottom stand began wobble figure work thing post review im concerned box experience terrible recommend sample provided exchange honest review\n"
     ]
    }
   ],
   "source": [
    "strippedReviews = lowerReviews.apply(lambda x: removeFunction(x))\n",
    "print(strippedReviews[0])"
   ]
  },
  {
   "cell_type": "markdown",
   "metadata": {},
   "source": [
    "4. Let's continue with stemming. For example, while the words \"swims\" and \"swim\" are different strings, they both refer to swimming. [Stemming](https://en.wikipedia.org/wiki/Stemming) refers to the process of mapping words from their inflected form to their base form, for instance: swims -> swim.\n",
    "\n",
    "* <span style=\"background-color: #ccfff2\">Stemming</span>: Apply a stemmer on the reviews, so that inflected forms are mapped to the base form. For example, in Python the popular natural language toolkit [nltk](http://www.nltk.org/howto/stem.html) has an easy-to-use stemmer. In case you are using R, you can try the [Snowball stemmer](https://www.rdocumentation.org/packages/corpus/versions/0.10.2/topics/stem_snowball).\n",
    "\n",
    "Finally, after stemming: \n",
    "\n",
    "*'wrote review manufactur contact explain current pictur amazon phone vertic stand phone horizont'*"
   ]
  },
  {
   "cell_type": "code",
   "execution_count": 328,
   "metadata": {},
   "outputs": [
    {
     "name": "stdout",
     "output_type": "stream",
     "text": [
      "0          wrote review manufactur contact explain curren...\n",
      "1                  suck bare pick car pretti dont wast money\n",
      "2               write short blew 2 fuse car appar demand 12v\n",
      "3          absolut memori buy im review review stuff page...\n",
      "4                                                        job\n",
      "                                 ...                        \n",
      "1711514                                 fast ship work great\n",
      "1711515     fit isnt great relay hard press connector mechan\n",
      "1711516    bought auxiliari horn car need run relay guy f...\n",
      "1711517    stock nice bright white super easi instal top ...\n",
      "1711518    great product fast ship awesom commun product ...\n",
      "Name: reviewText, Length: 1711519, dtype: object\n"
     ]
    }
   ],
   "source": [
    "from nltk.stem import *\n",
    "\n",
    "stemmer = PorterStemmer()\n",
    "\n",
    "def stemReview(review):\n",
    "    ''' reads in a string, stems\n",
    "        each word in the str\n",
    "    '''\n",
    "    # split into list of words\n",
    "    listOfWords = review.split()\n",
    "    # stem each word\n",
    "    updatedList = [stemmer.stem(word) for word in listOfWords]\n",
    "    # return the new string\n",
    "    return ' '.join(updatedList)\n",
    "\n",
    "\n",
    "strippedReviews = strippedReviews.apply(lambda x: stemReview(x))\n",
    "\n",
    "print(strippedReviews)"
   ]
  },
  {
   "cell_type": "markdown",
   "metadata": {},
   "source": [
    "5. Finally, filter the data by selecting reviews where the field <span style=\"background-color: #ccfff2\">overall</span> is 4 or 5, and store the review texts in a file named <span style=\"background-color: #ccfff2\">pos.txt</span>. Similarly, select reviews with rating 1 or 2 and store them in a file named <span style=\"background-color: #ccfff2\">neg.txt</span>. Ignore the reviews with overall rating 3. Each line in the two files should contain exactly one preprocessed review text without the rating."
   ]
  },
  {
   "cell_type": "code",
   "execution_count": 358,
   "metadata": {},
   "outputs": [],
   "source": [
    "overallRatingCol = df['overall']\n",
    "\n",
    "# indices for positive & negative reviews\n",
    "posIndices = np.where(overallRatingCol>=4)[0] # 0 4 5 8 9\n",
    "negIndices = np.where(overallRatingCol<=2)[0] # 1 2 7 10 13\n",
    "\n",
    "# use indices to select the preprocessed texts\n",
    "posReviews = strippedReviews[posIndices] \n",
    "negReviews = strippedReviews[negIndices] \n",
    "\n",
    "# join the reviews with a \\n character\n",
    "posString = '\\n'.join(posReviews)\n",
    "negString = '\\n'.join(negReviews)\n",
    "\n",
    "# open and write the strings to the files\n",
    "pos_file = open(\"pos.txt\", \"w\")\n",
    "neg_file = open(\"neg.txt\", \"w\")\n",
    "\n",
    "# write reviews to file\n",
    "pos_file.write(posString)\n",
    "neg_file.write(negString)\n",
    "\n",
    "# close file\n",
    "neg_file.close()\n",
    "pos_file.close()"
   ]
  },
  {
   "cell_type": "markdown",
   "metadata": {},
   "source": [
    "Having created two collections of positive and negative reviews respectively, you may wish to take a quick look to see how the review texts differ between them (positive vs negative). Keep these files, as we will be using this data later to experiment with machine learning methods.\n",
    "\n",
    "**Remember to submit your code on Moodle. You can return this Jupyter notebook (.ipynb) or .py, .R, etc depending on your programming preferences. No need to submit the text files.**"
   ]
  },
  {
   "cell_type": "code",
   "execution_count": null,
   "metadata": {},
   "outputs": [],
   "source": []
  }
 ],
 "metadata": {
  "kernelspec": {
   "display_name": "Python 3",
   "language": "python",
   "name": "python3"
  },
  "language_info": {
   "codemirror_mode": {
    "name": "ipython",
    "version": 3
   },
   "file_extension": ".py",
   "mimetype": "text/x-python",
   "name": "python",
   "nbconvert_exporter": "python",
   "pygments_lexer": "ipython3",
   "version": "3.8.8"
  }
 },
 "nbformat": 4,
 "nbformat_minor": 4
}
