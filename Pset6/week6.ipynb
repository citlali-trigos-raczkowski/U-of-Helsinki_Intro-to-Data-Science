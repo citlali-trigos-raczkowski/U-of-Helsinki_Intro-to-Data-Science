{
 "cells": [
  {
   "cell_type": "markdown",
   "metadata": {},
   "source": [
    "# Introduction to Data Science 2022\n",
    "\n",
    "# Week 6: Recap"
   ]
  },
  {
   "cell_type": "markdown",
   "metadata": {},
   "source": [
    "## Exercise 1 | Linear regression with feature selection"
   ]
  },
  {
   "cell_type": "markdown",
   "metadata": {},
   "source": [
    "Download the [TED Talks](https://www.kaggle.com/rounakbanik/ted-talks) dataset from Kaggle. Your task is to predict both the ratings and the number of views of a given TED talk. You should focus only on the <span style=\"background-color: #c177f2\">ted_main</span> table.\n",
    "\n",
    "1. Download the data, extract the following ratings from column <span style=\"background-color: #c177f2\">ratings</span>: <span style=\"background-color: #c177f2\">Funny</span>, <span style=\"background-color: #c177f2\">Confusing</span>, <span style=\"background-color: #c177f2\">Inspiring</span>. Store these values into respective columns so that they are easier to access. Next, extract the tags from column <span style=\"background-color: #c177f2\">tags</span>. Count the number of occurrences of each tag and select the top-100 most common tags. Create a binary variable for each of these and include them in your data table, so that you can directly see whether a given tag (among the top-100 tags) is used in a given TED talk or not. The dataset you compose should have dimension (2550, 104), and comprise of the 'views' column, the three columns with counts of \"Funny\", \"Confusing and \"Inspiring\" ratings, and 100 columns which one-hot encode the top-100 most common tag columns.\n"
   ]
  },
  {
   "cell_type": "code",
   "execution_count": 1,
   "metadata": {},
   "outputs": [
    {
     "data": {
      "text/plain": [
       "(2550, 17)"
      ]
     },
     "execution_count": 1,
     "metadata": {},
     "output_type": "execute_result"
    }
   ],
   "source": [
    "import pandas as pd\n",
    "import numpy as np\n",
    "import ast \n",
    "\n",
    "df = pd.read_csv('ted_main.csv')\n",
    "df.shape"
   ]
  },
  {
   "cell_type": "code",
   "execution_count": 2,
   "metadata": {},
   "outputs": [],
   "source": [
    "def get_count(rating, name):\n",
    "    rat = ast.literal_eval(rating)\n",
    "    for i in rat:\n",
    "        if i[\"name\"]!= name: continue\n",
    "        else: return i['count']"
   ]
  },
  {
   "cell_type": "code",
   "execution_count": 3,
   "metadata": {},
   "outputs": [],
   "source": [
    "# get the ratings\n",
    "# views, funny-rating, confusing-rating, inspiring-rating, 100 tags ...\n",
    "\n",
    "df = df[['ratings','tags', 'views']]\n",
    "\n",
    "df['funny-rating'] = df.apply(lambda row: get_count(row['ratings'], 'Funny'), axis=1)\n",
    "df['confusing-rating'] = df.apply(lambda row: get_count(row['ratings'], 'Confusing'), axis=1)\n",
    "df['inspiring-rating'] = df.apply(lambda row: get_count(row['ratings'], 'Inspiring'), axis=1)"
   ]
  },
  {
   "cell_type": "code",
   "execution_count": 4,
   "metadata": {},
   "outputs": [
    {
     "name": "stdout",
     "output_type": "stream",
     "text": [
      "      views  funny-rating  confusing-rating  inspiring-rating  technology  \\\n",
      "0  47227110         19645               242             24924           0   \n",
      "1   3200520           544                62               413           1   \n",
      "2   1636292           964                27               230           1   \n",
      "3   1697550            59                32              1070           0   \n",
      "4  12005869          1390                72              2893           0   \n",
      "\n",
      "   science  global issues  culture  TEDx  design  ...  food  religion  peace  \\\n",
      "0        0              0        1     0       0  ...     0         0      0   \n",
      "1        1              1        1     0       0  ...     0         0      0   \n",
      "2        0              0        0     0       1  ...     0         0      0   \n",
      "3        0              0        0     0       0  ...     0         0      0   \n",
      "4        0              1        0     0       0  ...     0         0      0   \n",
      "\n",
      "   ecology  family  demo  poetry  illness  universe  energy  \n",
      "0        0       0     0       0        0         0       0  \n",
      "1        0       0     0       0        0         0       1  \n",
      "2        0       0     0       0        0         0       0  \n",
      "3        0       0     0       0        0         0       0  \n",
      "4        0       0     1       0        0         0       0  \n",
      "\n",
      "[5 rows x 104 columns]\n"
     ]
    },
    {
     "data": {
      "text/plain": [
       "(2550, 104)"
      ]
     },
     "execution_count": 4,
     "metadata": {},
     "output_type": "execute_result"
    }
   ],
   "source": [
    "# get the 100 most popular tags and add them as a column \n",
    "def get_counts(tags_df):\n",
    "    count_dict = {}\n",
    "    for row in tags_df:\n",
    "        row = ast.literal_eval(row)\n",
    "        for tag in row:\n",
    "            if tag not in count_dict: \n",
    "                count_dict[tag] = 1\n",
    "            else: count_dict[tag] +=1\n",
    "    return count_dict\n",
    "\n",
    "def get_100_most_popular():\n",
    "    counts = get_counts(df['tags'])\n",
    "    result = sorted(counts, key=lambda x: counts[x], reverse=True)\n",
    "    return result[0:100]\n",
    "\n",
    "most_popular = get_100_most_popular()\n",
    "for tag in most_popular:\n",
    "    df[tag] = df.apply(lambda row: 1 if tag in row['tags'] else 0, axis=1)\n",
    "df = df.drop(columns=['ratings', 'tags'])\n",
    "print(df.head())\n",
    "df.shape"
   ]
  },
  {
   "cell_type": "markdown",
   "metadata": {},
   "source": [
    "2. Construct a linear regression model to predict the number of views based on the data in the <span style=\"background-color: #c177f2\">ted_main</span> table, including the binary variables for the top-100 tags that you just created."
   ]
  },
  {
   "cell_type": "code",
   "execution_count": 5,
   "metadata": {},
   "outputs": [],
   "source": [
    "# imports \n",
    "import numpy as np\n",
    "from sklearn import datasets, linear_model, feature_selection\n",
    "import matplotlib.pyplot as plt\n",
    "from sklearn.metrics import mean_squared_error, mean_absolute_error"
   ]
  },
  {
   "cell_type": "code",
   "execution_count": 6,
   "metadata": {},
   "outputs": [],
   "source": [
    "def train_for_input_row(input_row):\n",
    "    # prepare the training and testing data \n",
    "    train = df[:2000].drop(['funny-rating','confusing-rating','inspiring-rating'], axis=1)\n",
    "    test = df[2000:].drop(['funny-rating','confusing-rating','inspiring-rating'], axis=1)\n",
    "    \n",
    "    x_train = train\n",
    "    y_train = df[:2000][input_row]\n",
    "\n",
    "    x_test = test\n",
    "    y_test = df[2000:][input_row]\n",
    "    \n",
    "\n",
    "    # train the model\n",
    "    regr = linear_model.LinearRegression()\n",
    "    model = regr.fit(x_train, y_train)\n",
    "\n",
    "    # making predictions\n",
    "    predictions = model.predict(x_test)\n",
    "\n",
    "    # model evaluation\n",
    "    print(\"Linear Regression model predicting value of: \" + input_row)\n",
    "    print('mean_squared_error : ', mean_squared_error(y_test, predictions))\n",
    "    print('mean_absolute_error : ', mean_absolute_error(y_test, predictions))"
   ]
  },
  {
   "cell_type": "code",
   "execution_count": 7,
   "metadata": {},
   "outputs": [
    {
     "name": "stdout",
     "output_type": "stream",
     "text": [
      "Linear Regression model predicting value of: views\n",
      "mean_squared_error :  4.753826110773871e-19\n",
      "mean_absolute_error :  5.164607004685836e-10\n"
     ]
    }
   ],
   "source": [
    "train_for_input_row('views')"
   ]
  },
  {
   "cell_type": "markdown",
   "metadata": {},
   "source": [
    "3. Do the same for the <span style=\"background-color: #c177f2\">Funny</span>, <span style=\"background-color: #c177f2\">Confusing</span>, and <span style=\"background-color: #c177f2\">Inspiring</span> ratings."
   ]
  },
  {
   "cell_type": "code",
   "execution_count": 8,
   "metadata": {},
   "outputs": [
    {
     "name": "stdout",
     "output_type": "stream",
     "text": [
      "Linear Regression model predicting value of: funny-rating\n",
      "mean_squared_error :  136243.0271271222\n",
      "mean_absolute_error :  171.64345234899898\n",
      "None\n",
      "Linear Regression model predicting value of: confusing-rating\n",
      "mean_squared_error :  351.11683735366336\n",
      "mean_absolute_error :  13.765198730847858\n",
      "None\n",
      "Linear Regression model predicting value of: inspiring-rating\n",
      "mean_squared_error :  515490.73258899344\n",
      "mean_absolute_error :  479.29094326728364\n",
      "None\n"
     ]
    }
   ],
   "source": [
    "print(train_for_input_row('funny-rating'))\n",
    "print(train_for_input_row('confusing-rating'))\n",
    "print(train_for_input_row('inspiring-rating'))"
   ]
  },
  {
   "cell_type": "markdown",
   "metadata": {},
   "source": [
    "4. You will probably notice that most of the tags are not useful in predicting the views and the ratings. You should use some kind of variable selection to prune the set of tags that are included in the model. You can use for example classical p-values or more modern [LASSO](https://en.wikipedia.org/wiki/Lasso_(statistics)) techniques. Which tags are the best predictors of each of the response variables?"
   ]
  },
  {
   "cell_type": "code",
   "execution_count": 9,
   "metadata": {},
   "outputs": [],
   "source": [
    "def get_significant_p_vals_df(input_row):\n",
    "    # prepare the training and testing data \n",
    "    train = df.drop(['funny-rating','confusing-rating','inspiring-rating'], axis=1)\n",
    "    \n",
    "    x = train\n",
    "    y = df[input_row]\n",
    "\n",
    "    # get p-vals\n",
    "    p_values = np.array(feature_selection.f_regression(x, y)[1])\n",
    "    \n",
    "    # build df of cols only who have p-val <=.05\n",
    "    significant_p_val_table = pd.DataFrame([])\n",
    "    truthy_p_values = p_values<=.05\n",
    "    \n",
    "    for i,value in enumerate(truthy_p_values):\n",
    "        if value:\n",
    "            column_name = x.columns[i]\n",
    "            significant_p_val_table[column_name] = x.loc[:,column_name]\n",
    "            print(column_name, 'has p-value: ', p_values[i])\n",
    "            \n",
    "    print(significant_p_val_table.shape)\n",
    "    return significant_p_val_table"
   ]
  },
  {
   "cell_type": "code",
   "execution_count": 10,
   "metadata": {},
   "outputs": [
    {
     "name": "stdout",
     "output_type": "stream",
     "text": [
      "technology has p-value:  0.0013481754523512574\n",
      "global issues has p-value:  1.3846644195001775e-05\n",
      "culture has p-value:  6.512841082217395e-08\n",
      "design has p-value:  0.000592189939694601\n",
      "business has p-value:  0.0010192379168437221\n",
      "art has p-value:  0.0003884222620904655\n",
      "future has p-value:  0.02654829574579113\n",
      "collaboration has p-value:  0.03339249666782307\n",
      "environment has p-value:  0.0022170672625839547\n",
      "brain has p-value:  2.946539582016628e-09\n",
      "activism has p-value:  0.005718055460213023\n",
      "education has p-value:  0.002152130569805624\n",
      "history has p-value:  0.04593427645428142\n",
      "TED Fellows has p-value:  0.012865720956922453\n",
      "health care has p-value:  0.008955378674603963\n",
      "politics has p-value:  0.001952294078403745\n",
      "cities has p-value:  0.009138330750189041\n",
      "psychology has p-value:  2.276372023958697e-22\n",
      "war has p-value:  0.006524375768473018\n",
      "Africa has p-value:  0.013105044253827084\n",
      "humor has p-value:  0.0036368308665309284\n",
      "government has p-value:  0.03147057076478168\n",
      "climate change has p-value:  0.022644897101653766\n",
      "architecture has p-value:  0.03380566749400527\n",
      "sustainability has p-value:  0.03885141976097019\n",
      "disease has p-value:  0.026496119635597937\n",
      "oceans has p-value:  0.045318508704350745\n",
      "happiness has p-value:  6.158249906289944e-07\n",
      "work has p-value:  1.1006341487883949e-09\n",
      "mind has p-value:  0.0011805290447940242\n",
      "writing has p-value:  0.03529225053419509\n",
      "motivation has p-value:  3.155534772791232e-06\n",
      "poverty has p-value:  0.02694868160602243\n",
      "language has p-value:  0.0007578102781507146\n",
      "mental health has p-value:  6.86984309000723e-06\n",
      "cognitive science has p-value:  0.008003101417654949\n",
      "ecology has p-value:  0.03531744392279177\n",
      "(2550, 37)\n"
     ]
    }
   ],
   "source": [
    "p_val_df = get_significant_p_vals_df('views')"
   ]
  },
  {
   "cell_type": "markdown",
   "metadata": {},
   "source": [
    "5. Produce summaries of your results. Could you recommend good tags – or tags to avoid! – for speakers targeting plenty of views and/or certain ratings?"
   ]
  },
  {
   "cell_type": "markdown",
   "metadata": {},
   "source": [
    "Out of the 100 most commonly used tags found from the dataset, 40 strongly influence rating (i.e. their p-values in doin linear regression are <= .05). These include: technology, war, brain, motivation, etc. While they strongly indicate the rating, this doesn't nexessarily mean it affects it positively. \n",
    "\n",
    "Tags that don't make a difference include: foodm religion, peace, etc."
   ]
  },
  {
   "cell_type": "markdown",
   "metadata": {},
   "source": [
    "**Remember to submit your code on Moodle. You can return this Jupyter notebook (.ipynb) or .py, .R, etc depending on your programming preferences.**"
   ]
  },
  {
   "cell_type": "markdown",
   "metadata": {},
   "source": [
    "## Exercise 2 | Symbol classification (part 2)\n",
    "\n",
    "Note that it is strongly recommended to use Python in this exercise. However, if you can find a suitable AutoML implementation for your favorite language (e.g [here](http://h2o-release.s3.amazonaws.com/h2o/master/3888/docs-website/h2o-docs/automl.html) seems to be one for R) then you are free to use that language as well.\n",
    "\n",
    "Use the preprocessed data from week 3 (you can also produce them using the example solutions of week 3)."
   ]
  },
  {
   "cell_type": "markdown",
   "metadata": {},
   "source": [
    "1. This time train a *random forest classifier* on the data. A random forest is a collection of *decision trees*, which makes it an *ensemble* of classifiers. Each tree uses a random subset of the features to make it’s prediction. Without tuning any parameters, how is the accuracy?"
   ]
  },
  {
   "cell_type": "code",
   "execution_count": 11,
   "metadata": {},
   "outputs": [
    {
     "name": "stdout",
     "output_type": "stream",
     "text": [
      "Just prepping the data. This is from week 3.\n",
      "image data shape =  (1020, 1024)\n",
      "target vector length =  1020\n"
     ]
    }
   ],
   "source": [
    "# Pre-process the data \n",
    "import pandas as pd\n",
    "import numpy as np\n",
    "from PIL import Image\n",
    "\n",
    "# read the labels/image paths and select the symbol IDs within the inclusive range [70, 80]\n",
    "df = pd.read_csv('../Pset3/HASYv2/hasy-data-labels.csv')\n",
    "df = df[df.symbol_id >= 70]\n",
    "df = df[df.symbol_id <= 80]\n",
    "img_data = []\n",
    "targets = []\n",
    "\n",
    "# read the image data\n",
    "for index, row in df.iterrows():\n",
    "    img = Image.open('../Pset3/HASYv2/'+row['path'])\n",
    "    img = img.convert(\"L\")\n",
    "    img = np.array(img.getdata())\n",
    "    img_data.append(img)\n",
    "    targets.append(row['latex'])\n",
    "\n",
    "img_data = np.array(img_data)\n",
    "\n",
    "print(\"Just prepping the data. This is from week 3.\")\n",
    "print('image data shape = ', img_data.shape)\n",
    "print('target vector length = ', len(targets))"
   ]
  },
  {
   "cell_type": "code",
   "execution_count": 12,
   "metadata": {},
   "outputs": [
    {
     "name": "stdout",
     "output_type": "stream",
     "text": [
      "Accuracy score on training data:  1.0\n",
      "(No surprise since it was trained on this data)\n",
      "\n",
      "Accuracy score on testing data:  0.8137254901960784\n"
     ]
    }
   ],
   "source": [
    "# splits data into trainx, trainy, testx, testy\n",
    "from sklearn.model_selection import train_test_split \n",
    "from sklearn.datasets import make_classification\n",
    "from sklearn.ensemble import RandomForestClassifier\n",
    "from sklearn.metrics import accuracy_score\n",
    "\n",
    "# split into training and testing\n",
    "X_train, X_test, Y_train, Y_test = train_test_split(img_data, targets, train_size=0.8, shuffle=True)\n",
    "\n",
    "# random forest classification\n",
    "clf = RandomForestClassifier()\n",
    "clf.fit(X_train, Y_train)\n",
    "\n",
    "# accuracy score\n",
    "print(\"Accuracy score on training data: \", accuracy_score(clf.predict(X_train), Y_train))\n",
    "print(\"(No surprise since it was trained on this data)\\n\")\n",
    "print(\"Accuracy score on testing data: \", accuracy_score(clf.predict(X_test), Y_test))"
   ]
  },
  {
   "cell_type": "markdown",
   "metadata": {},
   "source": [
    "2. The amount of trees to use as a part of the random forest is an example of a hyperparameter, because it is a parameter that is set prior to the learning process. In contrast, a parameter is a value in the model that is learned from the data. Train 20 classifiers, with varying amounts of decision trees starting from 10 up until 200, and plot the test accuracy as a function of the amount of classifiers. Does the accuracy keep increasing? Is more better?"
   ]
  },
  {
   "cell_type": "code",
   "execution_count": 13,
   "metadata": {},
   "outputs": [
    {
     "data": {
      "image/png": "[encoded data removed]",
      "text/plain": [
       "<Figure size 640x480 with 1 Axes>"
      ]
     },
     "metadata": {},
     "output_type": "display_data"
    }
   ],
   "source": [
    "import matplotlib.pyplot as plt\n",
    "\n",
    "def get_accuracy(no_decision_trees):\n",
    "    ''' Builds a classifier with the given number of decision trees\n",
    "        Returns accuracy value\n",
    "    '''\n",
    "    # random forest classification\n",
    "    clf = RandomForestClassifier(n_estimators = no_decision_trees)\n",
    "    clf.fit(X_train, Y_train)\n",
    "    accuracy = accuracy_score(clf.predict(X_test), Y_test)\n",
    "    return accuracy\n",
    "\n",
    "# build the accuracy values for the given # of decision trees\n",
    "accuracies = []\n",
    "no_decisions = [10,30,50,75,100,125,150,175,200]\n",
    "for number in no_decisions:\n",
    "    accuracy = get_accuracy(number)\n",
    "    accuracies.append(accuracy)\n",
    "    \n",
    "# plots accuracies \n",
    "plt.plot(no_decisions, accuracies)\n",
    "plt.xlabel(\"Number of Decision Trees\")\n",
    "plt.ylabel(\"Accuracy out of 1\")\n",
    "plt.show()"
   ]
  },
  {
   "cell_type": "markdown",
   "metadata": {},
   "source": [
    "It looks like the accuracy does generally tend to go up with the number of decision trees, but since there's randomness involved it's not necessarily always going to be better to have more decision trees. As we can see running the previous cell a few times, sometimes the graph does up and also down. "
   ]
  },
  {
   "cell_type": "markdown",
   "metadata": {},
   "source": [
    "3. If we had picked the amount of decision trees by taking the value with the best test accuracy from the last plot, we would have *overfit* our hyperparameters to the test data. Can you see why it is a mistake to tune hyperparameters of your model by using the test data?"
   ]
  },
  {
   "cell_type": "markdown",
   "metadata": {},
   "source": [
    "Finding the optimal parameters for the given training data means that the model will be excellent for this particular data set, not necessarily the global dataset we want it to be useful for. So, this is bad. "
   ]
  },
  {
   "cell_type": "markdown",
   "metadata": {},
   "source": [
    "4. Reshuffle and resplit the data so that it is divided in 3 parts: training (80%), validation (10%) and test (10%). Repeatedly train a model of your choosing (e.g random forest) on the training data, and evaluate it’s performance on the validation set, while tuning the hyperparameters so that the accuracy on the validation set increases. Then, finally evaluate the performance of your model on the test data. What can you say in terms of the generalization of your model?"
   ]
  },
  {
   "cell_type": "code",
   "execution_count": 14,
   "metadata": {},
   "outputs": [
    {
     "name": "stdout",
     "output_type": "stream",
     "text": [
      "(816, 1024) 816\n",
      "(102, 1024) 102\n",
      "(102, 1024) 102\n"
     ]
    }
   ],
   "source": [
    "from sklearn.utils import shuffle\n",
    "\n",
    "# shuffle the data\n",
    "X,Y = shuffle(img_data,targets)\n",
    "\n",
    "# split the data\n",
    "training = int(X.shape[0] * 0.8)\n",
    "testing = int(X.shape[0] * 0.1)\n",
    "\n",
    "X_train = X[:training,:]\n",
    "Y_train = Y[:training]\n",
    "\n",
    "X_val = X[training:training+testing,:]\n",
    "Y_val = Y[training:training+testing]\n",
    "\n",
    "X_test  = X[training+testing:,:]\n",
    "Y_test = Y[training+testing:]\n",
    "\n",
    "# check shape\n",
    "print(X_train.shape, len(Y_train))\n",
    "print(X_val.shape, len(Y_val))\n",
    "print(X_test.shape, len(Y_test))"
   ]
  },
  {
   "cell_type": "code",
   "execution_count": 15,
   "metadata": {},
   "outputs": [
    {
     "name": "stdout",
     "output_type": "stream",
     "text": [
      "Accuracies:  [0.84313725 0.84313725 0.82352941 0.84313725 0.84313725 0.85294118\n",
      " 0.87254902 0.8627451  0.82352941]\n",
      "\n",
      "Number of decision trees resulting in the highest accuracy:  700\n",
      "final accuracy on test set:  0.8333333333333334\n"
     ]
    }
   ],
   "source": [
    "# train a model of your choosing (e.g random forest) on the training data, \n",
    "# evaluate performance on validation set, while tuning the hyperparameters \n",
    "# so that the accuracy on the validation set increases\n",
    "\n",
    "# vary the no_decision_trees\n",
    "no_decision_trees = np.arange(100, 1000, 100)\n",
    "val_accs = np.zeros(len(no_decision_trees))\n",
    "classifiers = []\n",
    "\n",
    "def train_model():\n",
    "    # random forest classification\n",
    "    for i, no in enumerate(no_decision_trees):    \n",
    "        clf = RandomForestClassifier()\n",
    "        clf.fit(X_train, Y_train)\n",
    "        accuracy = accuracy_score(clf.predict(X_val), Y_val)\n",
    "        val_accs[i] = accuracy\n",
    "        classifiers.append(clf)\n",
    "\n",
    "# Get the classifier with the highest accuracy\n",
    "train_model()\n",
    "print('Accuracies: ',val_accs)\n",
    "print(\"\\nNumber of decision trees resulting in the highest accuracy: \", no_decision_trees[np.argmax(val_accs)])\n",
    "\n",
    "# get accuracy on test set\n",
    "best_classifier = classifiers[np.argmax(val_accs)]\n",
    "final_test_accuracy = accuracy_score(best_classifier.predict(X_test), Y_test)\n",
    "print(\"final accuracy on test set: \", final_test_accuracy)"
   ]
  },
  {
   "cell_type": "markdown",
   "metadata": {},
   "source": [
    "5. This process of picking a suitable model, evaluating its performance and tuning the hyperparameters is very time consuming. A new idea in machine learning is the concept of automating this by using an optimization algorithm to find the best model in the space of models and their hyperparameters. Have a look at [TPOT](https://github.com/EpistasisLab/tpot), an automated ML solution that finds a good model and a good set of hyperparameters automatically. Try it on this data, it should outperform simple models like the ones we tried easily. Note that running the algorithm might take a while, depending on the strength of your computer. \n",
    "\n",
    "*Note*: In case it is running for too long, try checking if the parameters you are using when calling TPOT are reasonable, i.e. try reducing number of ‘generations’ or ‘population_size’. TPOT uses cross-validation internally, so we don’t need our own validation set."
   ]
  },
  {
   "cell_type": "code",
   "execution_count": 22,
   "metadata": {},
   "outputs": [
    {
     "data": {
      "application/vnd.jupyter.widget-view+json": {
       "model_id": "",
       "version_major": 2,
       "version_minor": 0
      },
      "text/plain": [
       "Optimization Progress:   0%|          | 0/12 [00:00<?, ?pipeline/s]"
      ]
     },
     "metadata": {},
     "output_type": "display_data"
    },
    {
     "name": "stdout",
     "output_type": "stream",
     "text": [
      "\n",
      "Generation 1 - Current best internal CV score: 0.8198638336076612\n",
      "\n",
      "Generation 2 - Current best internal CV score: 0.8198638336076612\n",
      "\n",
      "Generation 3 - Current best internal CV score: 0.8198638336076612\n",
      "\n",
      "Best pipeline: SGDClassifier(input_matrix, alpha=0.01, eta0=0.01, fit_intercept=True, l1_ratio=0.5, learning_rate=constant, loss=log, penalty=elasticnet, power_t=100.0)\n",
      "Score:  0.0\n"
     ]
    },
    {
     "name": "stderr",
     "output_type": "stream",
     "text": [
      "/Users/citlalitrigos/opt/anaconda3/envs/geo_env/lib/python3.10/site-packages/sklearn/metrics/_scorer.py:765: FutureWarning: sklearn.metrics.SCORERS is deprecated and will be removed in v1.3. Please use sklearn.metrics.get_scorer_names to get a list of available scorers and sklearn.metrics.get_metric to get scorer.\n",
      "  warnings.warn(\n",
      "/Users/citlalitrigos/opt/anaconda3/envs/geo_env/lib/python3.10/site-packages/sklearn/metrics/_classification.py:217: FutureWarning: elementwise comparison failed; returning scalar instead, but in the future will perform elementwise comparison\n",
      "  score = y_true == y_pred\n"
     ]
    }
   ],
   "source": [
    "from tpot import TPOTClassifier\n",
    "from sklearn.datasets import load_digits\n",
    "from sklearn.model_selection import train_test_split\n",
    "\n",
    "# split the data: no validation needed since TPOT uses cross-validation internally\n",
    "X_train, X_test, Y_train, Y_test = train_test_split(img_data, targets,\n",
    "                                                    train_size=0.8, test_size=0.2, random_state=42)\n",
    "\n",
    "# run TPOT\n",
    "tpot = TPOTClassifier(generations=3, population_size=3, verbosity=2, max_eval_time_mins=1)\n",
    "tpot.fit(X_train, Y_train)\n",
    "Y_test = np.array(Y_test)\n",
    "print('Score: ',tpot.score(X_test, Y_test))"
   ]
  },
  {
   "cell_type": "markdown",
   "metadata": {},
   "source": [
    "**Remember to submit your code on Moodle. You can return this Jupyter notebook (.ipynb) or .py, .R, etc depending on your programming preferences.**"
   ]
  }
 ],
 "metadata": {
  "kernelspec": {
   "display_name": "Python 3.9.6 64-bit",
   "language": "python",
   "name": "python3"
  },
  "language_info": {
   "codemirror_mode": {
    "name": "ipython",
    "version": 3
   },
   "file_extension": ".py",
   "mimetype": "text/x-python",
   "name": "python",
   "nbconvert_exporter": "python",
   "pygments_lexer": "ipython3",
   "version": "3.9.6"
  },
  "vscode": {
   "interpreter": {
    "hash": "31f2aee4e71d21fbe5cf8b01ff0e069b9275f58929596ceb00d14d90e3e16cd6"
   }
  }
 },
 "nbformat": 4,
 "nbformat_minor": 4
}
